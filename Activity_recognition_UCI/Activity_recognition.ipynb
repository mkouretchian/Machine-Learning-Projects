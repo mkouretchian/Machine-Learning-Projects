{
 "cells": [
  {
   "cell_type": "code",
   "execution_count": 104,
   "metadata": {},
   "outputs": [],
   "source": [
    "import glob\n",
    "import pandas as pd\n",
    "import numpy as np\n",
    "import os\n",
    "from sklearn import svm\n",
    "from sklearn.model_selection import KFold"
   ]
  },
  {
   "cell_type": "code",
   "execution_count": 105,
   "metadata": {},
   "outputs": [],
   "source": [
    "path1 = \"/Users/roji/Downloads/Datasets_Healthy_Older_People/S1_Dataset\""
   ]
  },
  {
   "cell_type": "code",
   "execution_count": 106,
   "metadata": {},
   "outputs": [],
   "source": [
    "path2 = \"/Users/roji/Downloads/Datasets_Healthy_Older_People/S2_Dataset\""
   ]
  },
  {
   "cell_type": "code",
   "execution_count": 107,
   "metadata": {},
   "outputs": [],
   "source": [
    "files_1 = glob.glob(path1 + '/*.csv')\n",
    "files_2 = glob.glob(path2+'/*.csv')"
   ]
  },
  {
   "cell_type": "code",
   "execution_count": 108,
   "metadata": {},
   "outputs": [],
   "source": [
    "df_list = []"
   ]
  },
  {
   "cell_type": "code",
   "execution_count": 109,
   "metadata": {},
   "outputs": [],
   "source": [
    "for file in files_1:\n",
    "    temp_df = pd.read_csv(file,names=['Time_in_seconds ','Acceleration_reading_in_G_for_frontal_axis ','Acceleration_reading_in_G_for_vertical_axis','Acceleration_reading_in_G_for_lateral_axis ','Id_of_antenna_reading_sensor','Received_signal_strength_indicator','Phase','Frequency','label'])\n",
    "    df_list.append(temp_df)"
   ]
  },
  {
   "cell_type": "code",
   "execution_count": 110,
   "metadata": {},
   "outputs": [],
   "source": [
    "for file in files_2:\n",
    "    temp_df = pd.read_csv(file,names=['Time_in_seconds ','Acceleration_reading_in_G_for_frontal_axis ','Acceleration_reading_in_G_for_vertical_axis','Acceleration_reading_in_G_for_lateral_axis ','Id_of_antenna_reading_sensor','Received_signal_strength_indicator','Phase','Frequency','label'])\n",
    "    df_list.append(temp_df)"
   ]
  },
  {
   "cell_type": "code",
   "execution_count": 111,
   "metadata": {},
   "outputs": [
    {
     "name": "stdout",
     "output_type": "stream",
     "text": [
      "(3339, 9)\n",
      "(3044, 9)\n",
      "(2184, 9)\n",
      "(4638, 9)\n",
      "(8, 9)\n",
      "(3139, 9)\n",
      "(457, 9)\n",
      "(2427, 9)\n",
      "(1093, 9)\n",
      "(724, 9)\n",
      "(921, 9)\n",
      "(2060, 9)\n",
      "(520, 9)\n",
      "(733, 9)\n",
      "(506, 9)\n",
      "(27, 9)\n",
      "(938, 9)\n",
      "(497, 9)\n",
      "(423, 9)\n",
      "(881, 9)\n",
      "(8, 9)\n",
      "(747, 9)\n",
      "(1270, 9)\n",
      "(81, 9)\n",
      "(2876, 9)\n",
      "(2818, 9)\n",
      "(4563, 9)\n",
      "(1648, 9)\n",
      "(2542, 9)\n",
      "(22, 9)\n",
      "(534, 9)\n",
      "(1213, 9)\n",
      "(737, 9)\n",
      "(1244, 9)\n",
      "(1976, 9)\n",
      "(570, 9)\n",
      "(96, 9)\n",
      "(288, 9)\n",
      "(231, 9)\n",
      "(178, 9)\n",
      "(106, 9)\n",
      "(140, 9)\n",
      "(705, 9)\n",
      "(82, 9)\n",
      "(615, 9)\n",
      "(117, 9)\n",
      "(98, 9)\n",
      "(202, 9)\n",
      "(740, 9)\n",
      "(671, 9)\n",
      "(1066, 9)\n",
      "(2992, 9)\n",
      "(2382, 9)\n",
      "(2529, 9)\n",
      "(1828, 9)\n",
      "(1102, 9)\n",
      "(204, 9)\n"
     ]
    }
   ],
   "source": [
    "len(df_list)\n",
    "for i in range(len(df_list)):\n",
    "    print(df_list[i].shape)\n"
   ]
  },
  {
   "cell_type": "code",
   "execution_count": 112,
   "metadata": {},
   "outputs": [],
   "source": [
    "df = pd.concat(df_list,axis=0,ignore_index=True)"
   ]
  },
  {
   "cell_type": "code",
   "execution_count": 113,
   "metadata": {},
   "outputs": [
    {
     "data": {
      "text/plain": [
       "(67780, 9)"
      ]
     },
     "execution_count": 113,
     "metadata": {},
     "output_type": "execute_result"
    }
   ],
   "source": [
    "df.shape"
   ]
  },
  {
   "cell_type": "code",
   "execution_count": 114,
   "metadata": {},
   "outputs": [
    {
     "data": {
      "text/plain": [
       "array([1, 3, 4, 2])"
      ]
     },
     "execution_count": 114,
     "metadata": {},
     "output_type": "execute_result"
    }
   ],
   "source": [
    "df['label'].unique()"
   ]
  },
  {
   "cell_type": "code",
   "execution_count": 115,
   "metadata": {},
   "outputs": [
    {
     "data": {
      "text/plain": [
       "Time_in_seconds                                0\n",
       "Acceleration_reading_in_G_for_frontal_axis     0\n",
       "Acceleration_reading_in_G_for_vertical_axis    0\n",
       "Acceleration_reading_in_G_for_lateral_axis     0\n",
       "Id_of_antenna_reading_sensor                   0\n",
       "Received_signal_strength_indicator             0\n",
       "Phase                                          0\n",
       "Frequency                                      0\n",
       "label                                          0\n",
       "dtype: int64"
      ]
     },
     "execution_count": 115,
     "metadata": {},
     "output_type": "execute_result"
    }
   ],
   "source": [
    "df.isna().sum()"
   ]
  },
  {
   "cell_type": "code",
   "execution_count": 116,
   "metadata": {},
   "outputs": [
    {
     "data": {
      "text/html": [
       "<div>\n",
       "<style scoped>\n",
       "    .dataframe tbody tr th:only-of-type {\n",
       "        vertical-align: middle;\n",
       "    }\n",
       "\n",
       "    .dataframe tbody tr th {\n",
       "        vertical-align: top;\n",
       "    }\n",
       "\n",
       "    .dataframe thead th {\n",
       "        text-align: right;\n",
       "    }\n",
       "</style>\n",
       "<table border=\"1\" class=\"dataframe\">\n",
       "  <thead>\n",
       "    <tr style=\"text-align: right;\">\n",
       "      <th></th>\n",
       "      <th>Time_in_seconds</th>\n",
       "      <th>Acceleration_reading_in_G_for_frontal_axis</th>\n",
       "      <th>Acceleration_reading_in_G_for_vertical_axis</th>\n",
       "      <th>Acceleration_reading_in_G_for_lateral_axis</th>\n",
       "      <th>Id_of_antenna_reading_sensor</th>\n",
       "      <th>Received_signal_strength_indicator</th>\n",
       "      <th>Phase</th>\n",
       "      <th>Frequency</th>\n",
       "      <th>label</th>\n",
       "    </tr>\n",
       "  </thead>\n",
       "  <tbody>\n",
       "    <tr>\n",
       "      <th>count</th>\n",
       "      <td>67780.000000</td>\n",
       "      <td>67780.000000</td>\n",
       "      <td>67780.000000</td>\n",
       "      <td>67780.000000</td>\n",
       "      <td>67780.000000</td>\n",
       "      <td>67780.000000</td>\n",
       "      <td>67780.000000</td>\n",
       "      <td>67780.000000</td>\n",
       "      <td>67780.000000</td>\n",
       "    </tr>\n",
       "    <tr>\n",
       "      <th>mean</th>\n",
       "      <td>313.263116</td>\n",
       "      <td>0.707260</td>\n",
       "      <td>0.352076</td>\n",
       "      <td>-0.258535</td>\n",
       "      <td>2.389407</td>\n",
       "      <td>-58.342734</td>\n",
       "      <td>3.144645</td>\n",
       "      <td>922.607111</td>\n",
       "      <td>2.524727</td>\n",
       "    </tr>\n",
       "    <tr>\n",
       "      <th>std</th>\n",
       "      <td>263.830520</td>\n",
       "      <td>0.411021</td>\n",
       "      <td>0.410985</td>\n",
       "      <td>0.426518</td>\n",
       "      <td>1.090553</td>\n",
       "      <td>5.137376</td>\n",
       "      <td>2.177219</td>\n",
       "      <td>1.668846</td>\n",
       "      <td>0.862742</td>\n",
       "    </tr>\n",
       "    <tr>\n",
       "      <th>min</th>\n",
       "      <td>0.000000</td>\n",
       "      <td>-0.748080</td>\n",
       "      <td>-0.415690</td>\n",
       "      <td>-1.336400</td>\n",
       "      <td>1.000000</td>\n",
       "      <td>-72.000000</td>\n",
       "      <td>0.000000</td>\n",
       "      <td>920.250000</td>\n",
       "      <td>1.000000</td>\n",
       "    </tr>\n",
       "    <tr>\n",
       "      <th>25%</th>\n",
       "      <td>131.000000</td>\n",
       "      <td>0.330660</td>\n",
       "      <td>-0.002297</td>\n",
       "      <td>-0.358623</td>\n",
       "      <td>1.000000</td>\n",
       "      <td>-62.000000</td>\n",
       "      <td>1.038500</td>\n",
       "      <td>921.250000</td>\n",
       "      <td>2.000000</td>\n",
       "    </tr>\n",
       "    <tr>\n",
       "      <th>50%</th>\n",
       "      <td>264.250000</td>\n",
       "      <td>0.635520</td>\n",
       "      <td>0.227370</td>\n",
       "      <td>-0.082102</td>\n",
       "      <td>3.000000</td>\n",
       "      <td>-58.500000</td>\n",
       "      <td>2.704400</td>\n",
       "      <td>922.250000</td>\n",
       "      <td>3.000000</td>\n",
       "    </tr>\n",
       "    <tr>\n",
       "      <th>75%</th>\n",
       "      <td>421.500000</td>\n",
       "      <td>1.104500</td>\n",
       "      <td>0.870420</td>\n",
       "      <td>0.009122</td>\n",
       "      <td>3.000000</td>\n",
       "      <td>-56.000000</td>\n",
       "      <td>5.350500</td>\n",
       "      <td>923.750000</td>\n",
       "      <td>3.000000</td>\n",
       "    </tr>\n",
       "    <tr>\n",
       "      <th>max</th>\n",
       "      <td>1739.400000</td>\n",
       "      <td>1.503200</td>\n",
       "      <td>2.030200</td>\n",
       "      <td>1.217800</td>\n",
       "      <td>4.000000</td>\n",
       "      <td>-38.500000</td>\n",
       "      <td>6.281700</td>\n",
       "      <td>925.750000</td>\n",
       "      <td>4.000000</td>\n",
       "    </tr>\n",
       "  </tbody>\n",
       "</table>\n",
       "</div>"
      ],
      "text/plain": [
       "       Time_in_seconds   Acceleration_reading_in_G_for_frontal_axis   \\\n",
       "count      67780.000000                                 67780.000000   \n",
       "mean         313.263116                                     0.707260   \n",
       "std          263.830520                                     0.411021   \n",
       "min            0.000000                                    -0.748080   \n",
       "25%          131.000000                                     0.330660   \n",
       "50%          264.250000                                     0.635520   \n",
       "75%          421.500000                                     1.104500   \n",
       "max         1739.400000                                     1.503200   \n",
       "\n",
       "       Acceleration_reading_in_G_for_vertical_axis  \\\n",
       "count                                 67780.000000   \n",
       "mean                                      0.352076   \n",
       "std                                       0.410985   \n",
       "min                                      -0.415690   \n",
       "25%                                      -0.002297   \n",
       "50%                                       0.227370   \n",
       "75%                                       0.870420   \n",
       "max                                       2.030200   \n",
       "\n",
       "       Acceleration_reading_in_G_for_lateral_axis   \\\n",
       "count                                 67780.000000   \n",
       "mean                                     -0.258535   \n",
       "std                                       0.426518   \n",
       "min                                      -1.336400   \n",
       "25%                                      -0.358623   \n",
       "50%                                      -0.082102   \n",
       "75%                                       0.009122   \n",
       "max                                       1.217800   \n",
       "\n",
       "       Id_of_antenna_reading_sensor  Received_signal_strength_indicator  \\\n",
       "count                  67780.000000                        67780.000000   \n",
       "mean                       2.389407                          -58.342734   \n",
       "std                        1.090553                            5.137376   \n",
       "min                        1.000000                          -72.000000   \n",
       "25%                        1.000000                          -62.000000   \n",
       "50%                        3.000000                          -58.500000   \n",
       "75%                        3.000000                          -56.000000   \n",
       "max                        4.000000                          -38.500000   \n",
       "\n",
       "              Phase     Frequency         label  \n",
       "count  67780.000000  67780.000000  67780.000000  \n",
       "mean       3.144645    922.607111      2.524727  \n",
       "std        2.177219      1.668846      0.862742  \n",
       "min        0.000000    920.250000      1.000000  \n",
       "25%        1.038500    921.250000      2.000000  \n",
       "50%        2.704400    922.250000      3.000000  \n",
       "75%        5.350500    923.750000      3.000000  \n",
       "max        6.281700    925.750000      4.000000  "
      ]
     },
     "execution_count": 116,
     "metadata": {},
     "output_type": "execute_result"
    }
   ],
   "source": [
    "df.describe()"
   ]
  },
  {
   "cell_type": "code",
   "execution_count": 118,
   "metadata": {},
   "outputs": [],
   "source": [
    "data_np = df.to_numpy()"
   ]
  },
  {
   "cell_type": "code",
   "execution_count": 119,
   "metadata": {},
   "outputs": [
    {
     "data": {
      "text/plain": [
       "(67780, 9)"
      ]
     },
     "execution_count": 119,
     "metadata": {},
     "output_type": "execute_result"
    }
   ],
   "source": [
    "data_np.shape"
   ]
  },
  {
   "cell_type": "code",
   "execution_count": 121,
   "metadata": {},
   "outputs": [],
   "source": [
    "X = data_np[:,:-1]\n",
    "y = data_np[:,-1]"
   ]
  },
  {
   "cell_type": "code",
   "execution_count": 122,
   "metadata": {},
   "outputs": [
    {
     "name": "stdout",
     "output_type": "stream",
     "text": [
      "(67780, 8)\n"
     ]
    }
   ],
   "source": [
    "print(X.shape)"
   ]
  },
  {
   "cell_type": "code",
   "execution_count": 123,
   "metadata": {},
   "outputs": [
    {
     "name": "stdout",
     "output_type": "stream",
     "text": [
      "(67780,)\n"
     ]
    }
   ],
   "source": [
    "print(y.shape)"
   ]
  },
  {
   "cell_type": "code",
   "execution_count": 124,
   "metadata": {},
   "outputs": [
    {
     "data": {
      "text/plain": [
       "5"
      ]
     },
     "execution_count": 124,
     "metadata": {},
     "output_type": "execute_result"
    }
   ],
   "source": [
    "kf = KFold(n_splits=5)\n",
    "kf.get_n_splits(X)"
   ]
  },
  {
   "cell_type": "code",
   "execution_count": 125,
   "metadata": {},
   "outputs": [
    {
     "name": "stdout",
     "output_type": "stream",
     "text": [
      "split number :  0\n",
      "accuracy is: 0.6996901740926527\n",
      "precision, recall, f-1:  (array([0.60998596, 0.29666366, 0.82649025, 0.42635659]), array([0.68776848, 0.39782346, 0.76032124, 0.16320475]), array([0.64654623, 0.33987603, 0.79202614, 0.2360515 ]), array([4423,  827, 7969,  337]))\n",
      "split number :  1\n",
      "accuracy is: 0.7724992623192682\n",
      "precision, recall, f-1:  (array([0.65040928, 0.63976945, 0.81751107, 0.29464286]), array([0.58016428, 0.15416667, 0.98752228, 0.07971014]), array([0.61328188, 0.24846111, 0.89451023, 0.12547529]), array([3287, 1440, 8415,  414]))\n",
      "split number :  2\n",
      "accuracy is: 0.6850103275302449\n",
      "precision, recall, f-1:  (array([0.70834329, 0.16076294, 0.84179019, 0.40645161]), array([0.67066546, 0.57748777, 0.74345418, 0.10843373]), array([0.68898965, 0.25150977, 0.78957219, 0.17119565]), array([4418,  613, 7944,  581]))\n",
      "split number :  3\n",
      "accuracy is: 0.8568899380348185\n",
      "precision, recall, f-1:  (array([0.72101751, 0.75462963, 0.89365689, 0.43396226]), array([0.72647059, 0.32862903, 0.96911197, 0.06725146]), array([0.72373378, 0.45786517, 0.9298562 , 0.1164557 ]), array([2380,  992, 9842,  342]))\n",
      "split number :  4\n",
      "accuracy is: 0.9311006196518147\n",
      "precision, recall, f-1:  (array([0.36564626, 0.3       , 0.96210297, 0.11764706]), array([0.46637744, 0.05769231, 0.97115309, 0.04615385]), array([0.4099142 , 0.09677419, 0.96660685, 0.06629834]), array([  461,   208, 12757,   130]))\n"
     ]
    }
   ],
   "source": [
    "from sklearn.svm import SVC\n",
    "from sklearn.metrics import accuracy_score,precision_recall_fscore_support\n",
    "\n",
    "i =0\n",
    "for train_index, test_index in kf.split(X):\n",
    "    X_train, X_test = X[train_index], X[test_index]\n",
    "    y_train, y_test = y[train_index],y[test_index]\n",
    "    \n",
    "    y_train = np.array(y_train,dtype = float)\n",
    "    y_test = np.array(y_test,dtype = float)\n",
    "    svm = SVC(gamma='auto')\n",
    "    svm.fit(X_train, y_train)\n",
    "    y_pred = svm.predict(X_test)\n",
    "    \n",
    "    accuracy_svm = accuracy_score(y_test,y_pred)\n",
    "    \n",
    "    matrix_svm = precision_recall_fscore_support(y_test,y_pred)\n",
    "    \n",
    "    print(\"split number : \", str(i))\n",
    "    print(\"accuracy is:\", accuracy_svm)\n",
    "    print(\"precision, recall, f-1: \", matrix_svm)\n",
    "    \n",
    "    i+=1 "
   ]
  },
  {
   "cell_type": "code",
   "execution_count": 126,
   "metadata": {},
   "outputs": [],
   "source": [
    "import torch"
   ]
  },
  {
   "cell_type": "code",
   "execution_count": null,
   "metadata": {},
   "outputs": [],
   "source": []
  }
 ],
 "metadata": {
  "kernelspec": {
   "display_name": "Python 3",
   "language": "python",
   "name": "python3"
  },
  "language_info": {
   "codemirror_mode": {
    "name": "ipython",
    "version": 3
   },
   "file_extension": ".py",
   "mimetype": "text/x-python",
   "name": "python",
   "nbconvert_exporter": "python",
   "pygments_lexer": "ipython3",
   "version": "3.7.6"
  }
 },
 "nbformat": 4,
 "nbformat_minor": 4
}
